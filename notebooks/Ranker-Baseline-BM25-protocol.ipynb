{
 "cells": [
  {
   "cell_type": "markdown",
   "id": "5bbcc849-1372-439d-8ebf-4a7d385a68f4",
   "metadata": {},
   "source": [
    "# Baseline Experiment - BM25"
   ]
  },
  {
   "cell_type": "markdown",
   "id": "ba6c2b57-821a-494b-954f-99f816cee802",
   "metadata": {},
   "source": [
    "- Using BM25 as the baseline - using inclusion/exclsuion criteria in protocol as query"
   ]
  },
  {
   "cell_type": "code",
   "execution_count": 1,
   "id": "af2d0a06-212b-49c5-adc7-789692663c56",
   "metadata": {},
   "outputs": [],
   "source": [
    "%load_ext autoreload\n",
    "%autoreload 2"
   ]
  },
  {
   "cell_type": "code",
   "execution_count": 2,
   "id": "77516dec-6ded-42cb-b022-00a7e9595c49",
   "metadata": {},
   "outputs": [],
   "source": [
    "import clizod_ranker as cr"
   ]
  },
  {
   "cell_type": "code",
   "execution_count": 3,
   "id": "5a9c6738-59b4-4770-8906-ef6fa601ed9a",
   "metadata": {},
   "outputs": [
    {
     "name": "stderr",
     "output_type": "stream",
     "text": [
      "[nltk_data] Downloading package stopwords to /root/nltk_data...\n",
      "[nltk_data]   Package stopwords is already up-to-date!\n"
     ]
    },
    {
     "data": {
      "text/plain": [
       "True"
      ]
     },
     "execution_count": 3,
     "metadata": {},
     "output_type": "execute_result"
    }
   ],
   "source": [
    "import os\n",
    "import re\n",
    "import shutil\n",
    "import pandas as pd\n",
    "import re\n",
    "import numpy as np\n",
    "import json\n",
    "import time\n",
    "import datetime\n",
    "\n",
    "\n",
    "from random import randrange\n",
    "from string import Template\n",
    "from os.path import join, exists\n",
    "from sklearn.model_selection import train_test_split\n",
    "\n",
    "from rank_bm25 import BM25Okapi\n",
    "import nltk\n",
    "from nltk.corpus import stopwords\n",
    "from nltk.stem import PorterStemmer\n",
    "import string\n",
    "\n",
    "nltk.download('stopwords')"
   ]
  },
  {
   "cell_type": "markdown",
   "id": "0493fc45-c22f-45ff-a797-a25f2ab544f6",
   "metadata": {},
   "source": [
    "## Load Data\n",
    "Loading the data cleaned from classifier-sanitize.ipynb notebook."
   ]
  },
  {
   "cell_type": "code",
   "execution_count": 4,
   "id": "a977886f-1d0c-4fe0-b2fb-1272f0488386",
   "metadata": {},
   "outputs": [
    {
     "name": "stdout",
     "output_type": "stream",
     "text": [
      "There are 2905 rows in this dataset.\n"
     ]
    },
    {
     "data": {
      "text/html": [
       "<div>\n",
       "<style scoped>\n",
       "    .dataframe tbody tr th:only-of-type {\n",
       "        vertical-align: middle;\n",
       "    }\n",
       "\n",
       "    .dataframe tbody tr th {\n",
       "        vertical-align: top;\n",
       "    }\n",
       "\n",
       "    .dataframe thead th {\n",
       "        text-align: right;\n",
       "    }\n",
       "</style>\n",
       "<table border=\"1\" class=\"dataframe\">\n",
       "  <thead>\n",
       "    <tr style=\"text-align: right;\">\n",
       "      <th></th>\n",
       "      <th>tag</th>\n",
       "      <th>disease</th>\n",
       "      <th>variable</th>\n",
       "      <th>target_hash</th>\n",
       "      <th>target</th>\n",
       "      <th>review</th>\n",
       "      <th>reference</th>\n",
       "      <th>id</th>\n",
       "    </tr>\n",
       "  </thead>\n",
       "  <tbody>\n",
       "    <tr>\n",
       "      <th>0</th>\n",
       "      <td>0.0</td>\n",
       "      <td>cchf</td>\n",
       "      <td>rainfall</td>\n",
       "      <td>1266833a0c9bd183b54db85128f28024</td>\n",
       "      <td>Scientific Opinion on the Role of Tick Vectors...</td>\n",
       "      <td>1.0</td>\n",
       "      <td>Journal Article</td>\n",
       "      <td>0</td>\n",
       "    </tr>\n",
       "    <tr>\n",
       "      <th>1</th>\n",
       "      <td>0.0</td>\n",
       "      <td>cchf</td>\n",
       "      <td>rainfall</td>\n",
       "      <td>c025b214c7370b24a3776e85f6cd285b</td>\n",
       "      <td>A survey of rift valley fever and associated r...</td>\n",
       "      <td>0.0</td>\n",
       "      <td>Journal Article</td>\n",
       "      <td>1</td>\n",
       "    </tr>\n",
       "    <tr>\n",
       "      <th>2</th>\n",
       "      <td>0.0</td>\n",
       "      <td>cchf</td>\n",
       "      <td>rainfall</td>\n",
       "      <td>273c3107270be7343e0e43692cde82c3</td>\n",
       "      <td>Occurrence of Rickettsia spp. and Coxiella bur...</td>\n",
       "      <td>0.0</td>\n",
       "      <td>Journal Article</td>\n",
       "      <td>2</td>\n",
       "    </tr>\n",
       "  </tbody>\n",
       "</table>\n",
       "</div>"
      ],
      "text/plain": [
       "   tag disease  variable                       target_hash  \\\n",
       "0  0.0    cchf  rainfall  1266833a0c9bd183b54db85128f28024   \n",
       "1  0.0    cchf  rainfall  c025b214c7370b24a3776e85f6cd285b   \n",
       "2  0.0    cchf  rainfall  273c3107270be7343e0e43692cde82c3   \n",
       "\n",
       "                                              target  review        reference  \\\n",
       "0  Scientific Opinion on the Role of Tick Vectors...     1.0  Journal Article   \n",
       "1  A survey of rift valley fever and associated r...     0.0  Journal Article   \n",
       "2  Occurrence of Rickettsia spp. and Coxiella bur...     0.0  Journal Article   \n",
       "\n",
       "   id  \n",
       "0   0  \n",
       "1   1  \n",
       "2   2  "
      ]
     },
     "execution_count": 4,
     "metadata": {},
     "output_type": "execute_result"
    }
   ],
   "source": [
    "input_file_path = '../data/data_01_cleaned.csv'\n",
    "df_sample = pd.read_csv(input_file_path)\n",
    "\n",
    "print(f\"There are {len(df_sample)} rows in this dataset.\")\n",
    "df_sample.head(3)"
   ]
  },
  {
   "cell_type": "markdown",
   "id": "ebadee10-7986-4d40-aee6-321c69713512",
   "metadata": {},
   "source": [
    "Only using rainfall and excluding dengue"
   ]
  },
  {
   "cell_type": "code",
   "execution_count": 5,
   "id": "794b2e12-bd66-42bb-945c-882f234f3938",
   "metadata": {},
   "outputs": [
    {
     "data": {
      "text/html": [
       "<div>\n",
       "<style scoped>\n",
       "    .dataframe tbody tr th:only-of-type {\n",
       "        vertical-align: middle;\n",
       "    }\n",
       "\n",
       "    .dataframe tbody tr th {\n",
       "        vertical-align: top;\n",
       "    }\n",
       "\n",
       "    .dataframe thead th {\n",
       "        text-align: right;\n",
       "    }\n",
       "</style>\n",
       "<table border=\"1\" class=\"dataframe\">\n",
       "  <thead>\n",
       "    <tr style=\"text-align: right;\">\n",
       "      <th></th>\n",
       "      <th>disease</th>\n",
       "      <th>variable</th>\n",
       "    </tr>\n",
       "  </thead>\n",
       "  <tbody>\n",
       "    <tr>\n",
       "      <th>0</th>\n",
       "      <td>cchf</td>\n",
       "      <td>rainfall</td>\n",
       "    </tr>\n",
       "    <tr>\n",
       "      <th>1</th>\n",
       "      <td>ebola</td>\n",
       "      <td>rainfall</td>\n",
       "    </tr>\n",
       "    <tr>\n",
       "      <th>2</th>\n",
       "      <td>rvf</td>\n",
       "      <td>rainfall</td>\n",
       "    </tr>\n",
       "    <tr>\n",
       "      <th>3</th>\n",
       "      <td>lepto</td>\n",
       "      <td>rainfall</td>\n",
       "    </tr>\n",
       "  </tbody>\n",
       "</table>\n",
       "</div>"
      ],
      "text/plain": [
       "  disease  variable\n",
       "0    cchf  rainfall\n",
       "1   ebola  rainfall\n",
       "2     rvf  rainfall\n",
       "3   lepto  rainfall"
      ]
     },
     "execution_count": 5,
     "metadata": {},
     "output_type": "execute_result"
    }
   ],
   "source": [
    "# Unique combinations of disease and variable\n",
    "df_combs = df_sample[['disease','variable']].drop_duplicates().reset_index(drop=True)\n",
    "df_combs"
   ]
  },
  {
   "cell_type": "markdown",
   "id": "1b59fefa-3a39-43da-a8c2-3e7ad9859f2f",
   "metadata": {},
   "source": [
    "Subsetting the data for development vs full runs\n"
   ]
  },
  {
   "cell_type": "markdown",
   "id": "9e38b800-7f6f-408c-9017-d6cc910ab8d0",
   "metadata": {},
   "source": [
    "## Setup query"
   ]
  },
  {
   "cell_type": "code",
   "execution_count": 6,
   "id": "cd59d818-5b61-4f56-a231-9f39d1258912",
   "metadata": {},
   "outputs": [],
   "source": [
    "template_reference  = {\n",
    "    'cchf-rainfall': {\n",
    "        'topic': 'Impact of Climate Change on CCHF: A Focus on Rainfall',\n",
    "        'inclusion': \"Primary research or meta-analysis\\n Assesses the relationship between the rainfall and either:\\n Crimean-Congo haemorrhagic fever (CCHF) incidence or prevalence\\n Pathogen survival\\nTransmission\\nVirulence\\nDemonstrated vector or maintenance host survival, development or distribution\"\n",
    "    },\n",
    "    'ebola-rainfall': {\n",
    "        'topic': 'Impact of Climate Change on Ebola: A Focus on Rainfall',\n",
    "        'inclusion': \"Primary research or meta-analysis\\n Assesses the relationship between the rainfall and either:\\n Ebola or Marburg incidence or prevalence\\n Pathogen survival\\nTransmission\\nVirulence\\nDemonstrated vector or maintenance host survival, development or distribution\"\n",
    "    },\n",
    "    'lepto-rainfall': {\n",
    "        'topic': 'Impact of Climate Change on Leptospirosis: A Focus on Rainfall',\n",
    "        'inclusion': \"Primary research or meta-analysis\\n Assesses the relationship between the rainfall and either:\\n Leptospirosis incidence or prevalence\\n Pathogen survival\\nTransmission\\nVirulence\\nDemonstrated vector or maintenance host survival, development or distribution\"\n",
    "    },\n",
    "    'rvf-rainfall': {\n",
    "        'topic': 'Impact of Climate Change on Rift Valley Fever Virus: A Focus on Rainfall',\n",
    "        'inclusion': \"Primary research or meta-analysis\\n Assesses the relationship between the rainfall and either:\\n Rift Valley Fever (RVF) virus incidence or prevalence\\n Pathogen survival\\nTransmission\\nVirulence\\nDemonstrated vector or maintenance host survival, development or distribution\"\n",
    "    }   \n",
    "}"
   ]
  },
  {
   "cell_type": "markdown",
   "id": "423cf9b0-aad4-4a48-b738-ab3d079ec428",
   "metadata": {},
   "source": [
    "## Set up experiment directory"
   ]
  },
  {
   "cell_type": "code",
   "execution_count": 7,
   "id": "9ebd8772-0481-41f2-8ee9-bf8528498066",
   "metadata": {},
   "outputs": [],
   "source": [
    "exp_root_dir = \"../experiments/\"\n",
    "templates_dir = join(exp_root_dir, \"templates\")\n",
    "results_root_dir = join(exp_root_dir, \"results\")\n",
    "reports_root_dir = join(exp_root_dir, \"reports\")\n"
   ]
  },
  {
   "cell_type": "markdown",
   "id": "d8bd6fa1-324a-4530-bc16-61bce8a9eaa5",
   "metadata": {},
   "source": [
    "## Run the model"
   ]
  },
  {
   "cell_type": "code",
   "execution_count": 8,
   "id": "38a2ba57-4506-4c7b-992a-d7abf4c0a4e9",
   "metadata": {},
   "outputs": [],
   "source": [
    "def preprocess(text):\n",
    "    text = text.lower()\n",
    "    text = ''.join([char for char in text if char not in string.punctuation])\n",
    "    words = text.split()\n",
    "    stop_words = set(stopwords.words('english'))\n",
    "    words = [word for word in words if word not in stop_words]\n",
    "    stemmer = PorterStemmer()\n",
    "    words = [stemmer.stem(word) for word in words]\n",
    "    return \" \".join(words)\n",
    "\n",
    "def min_max_normalize(scores):\n",
    "    min_score = min(scores)\n",
    "    max_score = max(scores)\n",
    "    if max_score == min_score: # to avoid division by zero\n",
    "        return [1.0]*len(scores) if max_score != 0 else [0.0]*len(scores)\n",
    "\n",
    "    return [(score - min_score) / (max_score - min_score) for score in scores]\n",
    "    "
   ]
  },
  {
   "cell_type": "code",
   "execution_count": 9,
   "id": "b2c48905-e081-4b92-b969-33b1e1e881f8",
   "metadata": {},
   "outputs": [
    {
     "name": "stdout",
     "output_type": "stream",
     "text": [
      "Processed cchf-rainfall: dims for sub = (454, 8) score = (454, 1)\n",
      "Processed ebola-rainfall: dims for sub = (915, 8) score = (915, 1)\n",
      "Processed rvf-rainfall: dims for sub = (537, 8) score = (537, 1)\n",
      "Processed lepto-rainfall: dims for sub = (999, 8) score = (999, 1)\n",
      "All completed in 0:00:15.098284.\n",
      "Records count (2905, 10)\n"
     ]
    }
   ],
   "source": [
    "exp_start_time = time.time()\n",
    "df_results = pd.DataFrame()\n",
    "for index, crow in df_combs.iterrows():\n",
    "        \n",
    "        disease = crow['disease']\n",
    "        variable = crow['variable']\n",
    "        keywords = f\"{disease}-{variable}\"\n",
    "        \n",
    "        #Grab just the rows for the given disease and variable\n",
    "        df_sub = df_sample.query(f\"disease == '{disease}' & variable == '{variable}'\")\n",
    "        documents = df_sub['target'].tolist()                \n",
    "        tokenized_corpus = [preprocess(doc).split(\" \") for doc in documents]  # Tokenize each document\n",
    "\n",
    "        bm25 = BM25Okapi(tokenized_corpus)\n",
    "\n",
    "        entries = template_reference[keywords]\n",
    "\n",
    "        query_text = f\"{entries['topic']} {entries['inclusion']}\"\n",
    "\n",
    "        processed_query = preprocess(query_text)\n",
    "        tokenized_query = processed_query.split()\n",
    "        bm25_scores = bm25.get_scores(tokenized_query)\n",
    "        normalized_scores = min_max_normalize(bm25_scores)\n",
    "\n",
    "    \n",
    "        score_dict = { 'score': normalized_scores } \n",
    "        df_scores = pd.DataFrame(score_dict)\n",
    "        print(f\"Processed {disease}-{variable}: dims for sub = {df_sub.shape} score = {df_scores.shape}\")\n",
    "\n",
    "        df_sub = df_sub.reset_index()\n",
    "        df_scores.reset_index(drop=True, inplace=True)\n",
    "        \n",
    "        df_sub = pd.concat([df_sub, df_scores], axis=1)\n",
    "    \n",
    "        df_results = pd.concat([df_results, df_sub], axis=0)\n",
    "    \n",
    "elapsed_time = time.time() - exp_start_time\n",
    "print(f\"All completed in {str(datetime.timedelta(seconds=elapsed_time))}.\")\n",
    "print(f\"Records count {df_results.shape}\")"
   ]
  },
  {
   "cell_type": "markdown",
   "id": "1561994e-efa7-4be9-a514-b1c46dde65eb",
   "metadata": {},
   "source": [
    "## Process results"
   ]
  },
  {
   "cell_type": "markdown",
   "id": "fef08495-0f0a-4a1e-9004-e50462aaebe7",
   "metadata": {},
   "source": [
    "### Read the results"
   ]
  },
  {
   "cell_type": "markdown",
   "id": "f4ac7769-a7c0-408f-adc3-c6ee2ba8000d",
   "metadata": {},
   "source": [
    "### Calculate Ranking"
   ]
  },
  {
   "cell_type": "code",
   "execution_count": 10,
   "id": "1fbaf18c-39cf-45c1-bafa-66f221367800",
   "metadata": {},
   "outputs": [
    {
     "data": {
      "text/html": [
       "<div>\n",
       "<style scoped>\n",
       "    .dataframe tbody tr th:only-of-type {\n",
       "        vertical-align: middle;\n",
       "    }\n",
       "\n",
       "    .dataframe tbody tr th {\n",
       "        vertical-align: top;\n",
       "    }\n",
       "\n",
       "    .dataframe thead th {\n",
       "        text-align: right;\n",
       "    }\n",
       "</style>\n",
       "<table border=\"1\" class=\"dataframe\">\n",
       "  <thead>\n",
       "    <tr style=\"text-align: right;\">\n",
       "      <th></th>\n",
       "      <th>index</th>\n",
       "      <th>tag</th>\n",
       "      <th>disease</th>\n",
       "      <th>variable</th>\n",
       "      <th>target_hash</th>\n",
       "      <th>target</th>\n",
       "      <th>review</th>\n",
       "      <th>reference</th>\n",
       "      <th>id</th>\n",
       "      <th>score</th>\n",
       "      <th>experiment</th>\n",
       "      <th>model</th>\n",
       "    </tr>\n",
       "  </thead>\n",
       "  <tbody>\n",
       "    <tr>\n",
       "      <th>0</th>\n",
       "      <td>0</td>\n",
       "      <td>0.0</td>\n",
       "      <td>cchf</td>\n",
       "      <td>rainfall</td>\n",
       "      <td>1266833a0c9bd183b54db85128f28024</td>\n",
       "      <td>Scientific Opinion on the Role of Tick Vectors...</td>\n",
       "      <td>1.0</td>\n",
       "      <td>Journal Article</td>\n",
       "      <td>0</td>\n",
       "      <td>0.521013</td>\n",
       "      <td>h-05-baseline-protocol</td>\n",
       "      <td>bm25</td>\n",
       "    </tr>\n",
       "    <tr>\n",
       "      <th>1</th>\n",
       "      <td>1</td>\n",
       "      <td>0.0</td>\n",
       "      <td>cchf</td>\n",
       "      <td>rainfall</td>\n",
       "      <td>c025b214c7370b24a3776e85f6cd285b</td>\n",
       "      <td>A survey of rift valley fever and associated r...</td>\n",
       "      <td>0.0</td>\n",
       "      <td>Journal Article</td>\n",
       "      <td>1</td>\n",
       "      <td>0.345682</td>\n",
       "      <td>h-05-baseline-protocol</td>\n",
       "      <td>bm25</td>\n",
       "    </tr>\n",
       "    <tr>\n",
       "      <th>2</th>\n",
       "      <td>2</td>\n",
       "      <td>0.0</td>\n",
       "      <td>cchf</td>\n",
       "      <td>rainfall</td>\n",
       "      <td>273c3107270be7343e0e43692cde82c3</td>\n",
       "      <td>Occurrence of Rickettsia spp. and Coxiella bur...</td>\n",
       "      <td>0.0</td>\n",
       "      <td>Journal Article</td>\n",
       "      <td>2</td>\n",
       "      <td>0.061553</td>\n",
       "      <td>h-05-baseline-protocol</td>\n",
       "      <td>bm25</td>\n",
       "    </tr>\n",
       "    <tr>\n",
       "      <th>3</th>\n",
       "      <td>3</td>\n",
       "      <td>0.0</td>\n",
       "      <td>cchf</td>\n",
       "      <td>rainfall</td>\n",
       "      <td>e0873fc8c6aaff839a4c90eeb31bbf6f</td>\n",
       "      <td>Multisectoral Perspectives on Global Warming a...</td>\n",
       "      <td>0.0</td>\n",
       "      <td>Journal Article</td>\n",
       "      <td>3</td>\n",
       "      <td>0.435973</td>\n",
       "      <td>h-05-baseline-protocol</td>\n",
       "      <td>bm25</td>\n",
       "    </tr>\n",
       "  </tbody>\n",
       "</table>\n",
       "</div>"
      ],
      "text/plain": [
       "   index  tag disease  variable                       target_hash  \\\n",
       "0      0  0.0    cchf  rainfall  1266833a0c9bd183b54db85128f28024   \n",
       "1      1  0.0    cchf  rainfall  c025b214c7370b24a3776e85f6cd285b   \n",
       "2      2  0.0    cchf  rainfall  273c3107270be7343e0e43692cde82c3   \n",
       "3      3  0.0    cchf  rainfall  e0873fc8c6aaff839a4c90eeb31bbf6f   \n",
       "\n",
       "                                              target  review        reference  \\\n",
       "0  Scientific Opinion on the Role of Tick Vectors...     1.0  Journal Article   \n",
       "1  A survey of rift valley fever and associated r...     0.0  Journal Article   \n",
       "2  Occurrence of Rickettsia spp. and Coxiella bur...     0.0  Journal Article   \n",
       "3  Multisectoral Perspectives on Global Warming a...     0.0  Journal Article   \n",
       "\n",
       "   id     score              experiment model  \n",
       "0   0  0.521013  h-05-baseline-protocol  bm25  \n",
       "1   1  0.345682  h-05-baseline-protocol  bm25  \n",
       "2   2  0.061553  h-05-baseline-protocol  bm25  \n",
       "3   3  0.435973  h-05-baseline-protocol  bm25  "
      ]
     },
     "execution_count": 10,
     "metadata": {},
     "output_type": "execute_result"
    }
   ],
   "source": [
    "df_comb_results = df_results.copy()\n",
    "df_comb_results['experiment'] = 'h-05-baseline-protocol'\n",
    "df_comb_results['model'] = 'bm25'\n",
    "df_comb_results.head(4)"
   ]
  },
  {
   "cell_type": "code",
   "execution_count": 11,
   "id": "bbb8d4bc-1985-484c-bb31-8fdbabe99f63",
   "metadata": {
    "scrolled": true
   },
   "outputs": [
    {
     "data": {
      "text/html": [
       "<div>\n",
       "<style scoped>\n",
       "    .dataframe tbody tr th:only-of-type {\n",
       "        vertical-align: middle;\n",
       "    }\n",
       "\n",
       "    .dataframe tbody tr th {\n",
       "        vertical-align: top;\n",
       "    }\n",
       "\n",
       "    .dataframe thead th {\n",
       "        text-align: right;\n",
       "    }\n",
       "</style>\n",
       "<table border=\"1\" class=\"dataframe\">\n",
       "  <thead>\n",
       "    <tr style=\"text-align: right;\">\n",
       "      <th></th>\n",
       "      <th>id</th>\n",
       "      <th>experiment</th>\n",
       "      <th>model</th>\n",
       "      <th>disease</th>\n",
       "      <th>variable</th>\n",
       "      <th>tag</th>\n",
       "      <th>score</th>\n",
       "    </tr>\n",
       "  </thead>\n",
       "  <tbody>\n",
       "    <tr>\n",
       "      <th>0</th>\n",
       "      <td>0</td>\n",
       "      <td>h-05-baseline-protocol</td>\n",
       "      <td>bm25</td>\n",
       "      <td>cchf</td>\n",
       "      <td>rainfall</td>\n",
       "      <td>0.0</td>\n",
       "      <td>0.521013</td>\n",
       "    </tr>\n",
       "    <tr>\n",
       "      <th>1</th>\n",
       "      <td>1</td>\n",
       "      <td>h-05-baseline-protocol</td>\n",
       "      <td>bm25</td>\n",
       "      <td>cchf</td>\n",
       "      <td>rainfall</td>\n",
       "      <td>0.0</td>\n",
       "      <td>0.345682</td>\n",
       "    </tr>\n",
       "    <tr>\n",
       "      <th>2</th>\n",
       "      <td>2</td>\n",
       "      <td>h-05-baseline-protocol</td>\n",
       "      <td>bm25</td>\n",
       "      <td>cchf</td>\n",
       "      <td>rainfall</td>\n",
       "      <td>0.0</td>\n",
       "      <td>0.061553</td>\n",
       "    </tr>\n",
       "    <tr>\n",
       "      <th>3</th>\n",
       "      <td>3</td>\n",
       "      <td>h-05-baseline-protocol</td>\n",
       "      <td>bm25</td>\n",
       "      <td>cchf</td>\n",
       "      <td>rainfall</td>\n",
       "      <td>0.0</td>\n",
       "      <td>0.435973</td>\n",
       "    </tr>\n",
       "    <tr>\n",
       "      <th>4</th>\n",
       "      <td>4</td>\n",
       "      <td>h-05-baseline-protocol</td>\n",
       "      <td>bm25</td>\n",
       "      <td>cchf</td>\n",
       "      <td>rainfall</td>\n",
       "      <td>0.0</td>\n",
       "      <td>0.064991</td>\n",
       "    </tr>\n",
       "  </tbody>\n",
       "</table>\n",
       "</div>"
      ],
      "text/plain": [
       "   id              experiment model disease  variable  tag     score\n",
       "0   0  h-05-baseline-protocol  bm25    cchf  rainfall  0.0  0.521013\n",
       "1   1  h-05-baseline-protocol  bm25    cchf  rainfall  0.0  0.345682\n",
       "2   2  h-05-baseline-protocol  bm25    cchf  rainfall  0.0  0.061553\n",
       "3   3  h-05-baseline-protocol  bm25    cchf  rainfall  0.0  0.435973\n",
       "4   4  h-05-baseline-protocol  bm25    cchf  rainfall  0.0  0.064991"
      ]
     },
     "execution_count": 11,
     "metadata": {},
     "output_type": "execute_result"
    }
   ],
   "source": [
    "selected_columns = ['id', 'experiment', 'model', 'disease', 'variable', 'tag', 'score']\n",
    "df_rerank = df_comb_results.loc[:,selected_columns]\n",
    "df_rerank.head(5)"
   ]
  },
  {
   "cell_type": "code",
   "execution_count": 12,
   "id": "8f92b20d-f657-4c34-89c7-265262ae5012",
   "metadata": {},
   "outputs": [
    {
     "data": {
      "text/html": [
       "<div>\n",
       "<style scoped>\n",
       "    .dataframe tbody tr th:only-of-type {\n",
       "        vertical-align: middle;\n",
       "    }\n",
       "\n",
       "    .dataframe tbody tr th {\n",
       "        vertical-align: top;\n",
       "    }\n",
       "\n",
       "    .dataframe thead th {\n",
       "        text-align: right;\n",
       "    }\n",
       "</style>\n",
       "<table border=\"1\" class=\"dataframe\">\n",
       "  <thead>\n",
       "    <tr style=\"text-align: right;\">\n",
       "      <th></th>\n",
       "      <th>id</th>\n",
       "      <th>experiment</th>\n",
       "      <th>model</th>\n",
       "      <th>disease</th>\n",
       "      <th>variable</th>\n",
       "      <th>tag</th>\n",
       "      <th>score</th>\n",
       "      <th>target</th>\n",
       "      <th>target_len</th>\n",
       "      <th>ranking</th>\n",
       "    </tr>\n",
       "  </thead>\n",
       "  <tbody>\n",
       "    <tr>\n",
       "      <th>0</th>\n",
       "      <td>221</td>\n",
       "      <td>h-05-baseline-protocol</td>\n",
       "      <td>bm25</td>\n",
       "      <td>cchf</td>\n",
       "      <td>rainfall</td>\n",
       "      <td>1.0</td>\n",
       "      <td>1.000000</td>\n",
       "      <td>Climatic prerequisites for changing activity i...</td>\n",
       "      <td>2414</td>\n",
       "      <td>1</td>\n",
       "    </tr>\n",
       "    <tr>\n",
       "      <th>1</th>\n",
       "      <td>19</td>\n",
       "      <td>h-05-baseline-protocol</td>\n",
       "      <td>bm25</td>\n",
       "      <td>cchf</td>\n",
       "      <td>rainfall</td>\n",
       "      <td>1.0</td>\n",
       "      <td>0.884384</td>\n",
       "      <td>Predicting CCHF incidence and its related fact...</td>\n",
       "      <td>1691</td>\n",
       "      <td>2</td>\n",
       "    </tr>\n",
       "    <tr>\n",
       "      <th>2</th>\n",
       "      <td>346</td>\n",
       "      <td>h-05-baseline-protocol</td>\n",
       "      <td>bm25</td>\n",
       "      <td>cchf</td>\n",
       "      <td>rainfall</td>\n",
       "      <td>1.0</td>\n",
       "      <td>0.882204</td>\n",
       "      <td>Status of Crimean-Congo haemorrhagic fever vir...</td>\n",
       "      <td>1322</td>\n",
       "      <td>3</td>\n",
       "    </tr>\n",
       "    <tr>\n",
       "      <th>3</th>\n",
       "      <td>300</td>\n",
       "      <td>h-05-baseline-protocol</td>\n",
       "      <td>bm25</td>\n",
       "      <td>cchf</td>\n",
       "      <td>rainfall</td>\n",
       "      <td>0.0</td>\n",
       "      <td>0.863895</td>\n",
       "      <td>Climate change and Ixodes tick-borne diseases ...</td>\n",
       "      <td>2105</td>\n",
       "      <td>4</td>\n",
       "    </tr>\n",
       "    <tr>\n",
       "      <th>4</th>\n",
       "      <td>80</td>\n",
       "      <td>h-05-baseline-protocol</td>\n",
       "      <td>bm25</td>\n",
       "      <td>cchf</td>\n",
       "      <td>rainfall</td>\n",
       "      <td>1.0</td>\n",
       "      <td>0.825640</td>\n",
       "      <td>Effect of meteorological factors on Hyalomma s...</td>\n",
       "      <td>1978</td>\n",
       "      <td>5</td>\n",
       "    </tr>\n",
       "  </tbody>\n",
       "</table>\n",
       "</div>"
      ],
      "text/plain": [
       "    id              experiment model disease  variable  tag     score  \\\n",
       "0  221  h-05-baseline-protocol  bm25    cchf  rainfall  1.0  1.000000   \n",
       "1   19  h-05-baseline-protocol  bm25    cchf  rainfall  1.0  0.884384   \n",
       "2  346  h-05-baseline-protocol  bm25    cchf  rainfall  1.0  0.882204   \n",
       "3  300  h-05-baseline-protocol  bm25    cchf  rainfall  0.0  0.863895   \n",
       "4   80  h-05-baseline-protocol  bm25    cchf  rainfall  1.0  0.825640   \n",
       "\n",
       "                                              target  target_len  ranking  \n",
       "0  Climatic prerequisites for changing activity i...        2414        1  \n",
       "1  Predicting CCHF incidence and its related fact...        1691        2  \n",
       "2  Status of Crimean-Congo haemorrhagic fever vir...        1322        3  \n",
       "3  Climate change and Ixodes tick-borne diseases ...        2105        4  \n",
       "4  Effect of meteorological factors on Hyalomma s...        1978        5  "
      ]
     },
     "execution_count": 12,
     "metadata": {},
     "output_type": "execute_result"
    }
   ],
   "source": [
    "df_rerank = cr.apply_len_tie_breaker(df_sample, df_rerank, 'score')\n",
    "df_rerank.head(5)"
   ]
  },
  {
   "cell_type": "markdown",
   "id": "3ad41c7e-11fb-41c9-b25e-579d41108b5b",
   "metadata": {},
   "source": [
    "## Review Document"
   ]
  },
  {
   "cell_type": "markdown",
   "id": "d193cd6b-f042-4836-8bec-d3483291482f",
   "metadata": {},
   "source": [
    "Creating separate files for each experiment"
   ]
  },
  {
   "cell_type": "code",
   "execution_count": 13,
   "id": "44e9183d-90f8-4d6f-84f6-ea181b2c073f",
   "metadata": {},
   "outputs": [
    {
     "name": "stdout",
     "output_type": "stream",
     "text": [
      "(2905, 10)\n",
      "bm25 - h-05-baseline-protocol\n"
     ]
    }
   ],
   "source": [
    "df_review = df_rerank.copy()\n",
    "print(df_review.shape)\n",
    "groups = df_review.groupby([\"model\", \"experiment\"])\n",
    "for key, data in groups:\n",
    "    print(f\"{key[0]} - {key[1]}\")\n",
    "\n",
    "    #reporting\n",
    "    df_reporting = df_review[['id', 'experiment', 'model', 'disease', 'variable', 'tag', 'score', 'ranking']].copy()\n",
    "    df_reporting.to_csv(reports_root_dir + f'/report_{key[0]}_{key[1]}.csv', header=True, index=False, encoding='utf-8')"
   ]
  },
  {
   "cell_type": "code",
   "execution_count": null,
   "id": "ea9cb1b0-9a28-4bb6-95c4-85a6d5c1660c",
   "metadata": {},
   "outputs": [],
   "source": []
  }
 ],
 "metadata": {
  "kernelspec": {
   "display_name": "Python 3 (ipykernel)",
   "language": "python",
   "name": "python3"
  },
  "language_info": {
   "codemirror_mode": {
    "name": "ipython",
    "version": 3
   },
   "file_extension": ".py",
   "mimetype": "text/x-python",
   "name": "python",
   "nbconvert_exporter": "python",
   "pygments_lexer": "ipython3",
   "version": "3.9.21"
  }
 },
 "nbformat": 4,
 "nbformat_minor": 5
}
