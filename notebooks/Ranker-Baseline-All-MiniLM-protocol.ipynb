{
 "cells": [
  {
   "cell_type": "markdown",
   "id": "5bbcc849-1372-439d-8ebf-4a7d385a68f4",
   "metadata": {},
   "source": [
    "# Baseline Experiment - all-MiniLM-L6-v2 - Cosine Similarity"
   ]
  },
  {
   "cell_type": "markdown",
   "id": "ba6c2b57-821a-494b-954f-99f816cee802",
   "metadata": {},
   "source": [
    "- Using all-MiniLM-L6-v2 and Cosine Similarity as the baseline - using inclusion/exclsuion criteria in protocol as query"
   ]
  },
  {
   "cell_type": "code",
   "execution_count": 1,
   "id": "4a464e8d-8aad-4ef8-af4b-7731f663066c",
   "metadata": {},
   "outputs": [],
   "source": [
    "%load_ext autoreload\n",
    "%autoreload 2"
   ]
  },
  {
   "cell_type": "code",
   "execution_count": 2,
   "id": "93665d15-492e-4bfe-a2a6-0e6d9afdd03f",
   "metadata": {},
   "outputs": [],
   "source": [
    "import clizod_ranker as cr"
   ]
  },
  {
   "cell_type": "code",
   "execution_count": 3,
   "id": "5a9c6738-59b4-4770-8906-ef6fa601ed9a",
   "metadata": {},
   "outputs": [],
   "source": [
    "import os\n",
    "import re\n",
    "import shutil\n",
    "import pandas as pd\n",
    "import re\n",
    "import numpy as np\n",
    "import json\n",
    "import time\n",
    "import datetime\n",
    "\n",
    "from random import randrange\n",
    "from string import Template\n",
    "from os.path import join, exists\n",
    "from sklearn.model_selection import train_test_split\n",
    "\n",
    "from transformers import AutoTokenizer, AutoModel\n",
    "import torch\n",
    "import ast\n",
    "from sklearn.metrics.pairwise import cosine_similarity"
   ]
  },
  {
   "cell_type": "markdown",
   "id": "0493fc45-c22f-45ff-a797-a25f2ab544f6",
   "metadata": {},
   "source": [
    "## Load Data\n",
    "Loading the data cleaned from classifier-sanitize.ipynb notebook."
   ]
  },
  {
   "cell_type": "code",
   "execution_count": 4,
   "id": "a977886f-1d0c-4fe0-b2fb-1272f0488386",
   "metadata": {},
   "outputs": [
    {
     "name": "stdout",
     "output_type": "stream",
     "text": [
      "There are 2905 rows in this dataset.\n"
     ]
    },
    {
     "data": {
      "text/html": [
       "<div>\n",
       "<style scoped>\n",
       "    .dataframe tbody tr th:only-of-type {\n",
       "        vertical-align: middle;\n",
       "    }\n",
       "\n",
       "    .dataframe tbody tr th {\n",
       "        vertical-align: top;\n",
       "    }\n",
       "\n",
       "    .dataframe thead th {\n",
       "        text-align: right;\n",
       "    }\n",
       "</style>\n",
       "<table border=\"1\" class=\"dataframe\">\n",
       "  <thead>\n",
       "    <tr style=\"text-align: right;\">\n",
       "      <th></th>\n",
       "      <th>tag</th>\n",
       "      <th>disease</th>\n",
       "      <th>variable</th>\n",
       "      <th>target_hash</th>\n",
       "      <th>target</th>\n",
       "      <th>review</th>\n",
       "      <th>reference</th>\n",
       "      <th>id</th>\n",
       "    </tr>\n",
       "  </thead>\n",
       "  <tbody>\n",
       "    <tr>\n",
       "      <th>0</th>\n",
       "      <td>0.0</td>\n",
       "      <td>cchf</td>\n",
       "      <td>rainfall</td>\n",
       "      <td>1266833a0c9bd183b54db85128f28024</td>\n",
       "      <td>Scientific Opinion on the Role of Tick Vectors...</td>\n",
       "      <td>1.0</td>\n",
       "      <td>Journal Article</td>\n",
       "      <td>0</td>\n",
       "    </tr>\n",
       "    <tr>\n",
       "      <th>1</th>\n",
       "      <td>0.0</td>\n",
       "      <td>cchf</td>\n",
       "      <td>rainfall</td>\n",
       "      <td>c025b214c7370b24a3776e85f6cd285b</td>\n",
       "      <td>A survey of rift valley fever and associated r...</td>\n",
       "      <td>0.0</td>\n",
       "      <td>Journal Article</td>\n",
       "      <td>1</td>\n",
       "    </tr>\n",
       "    <tr>\n",
       "      <th>2</th>\n",
       "      <td>0.0</td>\n",
       "      <td>cchf</td>\n",
       "      <td>rainfall</td>\n",
       "      <td>273c3107270be7343e0e43692cde82c3</td>\n",
       "      <td>Occurrence of Rickettsia spp. and Coxiella bur...</td>\n",
       "      <td>0.0</td>\n",
       "      <td>Journal Article</td>\n",
       "      <td>2</td>\n",
       "    </tr>\n",
       "  </tbody>\n",
       "</table>\n",
       "</div>"
      ],
      "text/plain": [
       "   tag disease  variable                       target_hash  \\\n",
       "0  0.0    cchf  rainfall  1266833a0c9bd183b54db85128f28024   \n",
       "1  0.0    cchf  rainfall  c025b214c7370b24a3776e85f6cd285b   \n",
       "2  0.0    cchf  rainfall  273c3107270be7343e0e43692cde82c3   \n",
       "\n",
       "                                              target  review        reference  \\\n",
       "0  Scientific Opinion on the Role of Tick Vectors...     1.0  Journal Article   \n",
       "1  A survey of rift valley fever and associated r...     0.0  Journal Article   \n",
       "2  Occurrence of Rickettsia spp. and Coxiella bur...     0.0  Journal Article   \n",
       "\n",
       "   id  \n",
       "0   0  \n",
       "1   1  \n",
       "2   2  "
      ]
     },
     "execution_count": 4,
     "metadata": {},
     "output_type": "execute_result"
    }
   ],
   "source": [
    "input_file_path = '../data/data_01_cleaned.csv'\n",
    "df_sample = pd.read_csv(input_file_path)\n",
    "\n",
    "print(f\"There are {len(df_sample)} rows in this dataset.\")\n",
    "df_sample.head(3)"
   ]
  },
  {
   "cell_type": "markdown",
   "id": "ebadee10-7986-4d40-aee6-321c69713512",
   "metadata": {},
   "source": [
    "Only using rainfall and excluding dengue"
   ]
  },
  {
   "cell_type": "code",
   "execution_count": 5,
   "id": "794b2e12-bd66-42bb-945c-882f234f3938",
   "metadata": {},
   "outputs": [
    {
     "data": {
      "text/html": [
       "<div>\n",
       "<style scoped>\n",
       "    .dataframe tbody tr th:only-of-type {\n",
       "        vertical-align: middle;\n",
       "    }\n",
       "\n",
       "    .dataframe tbody tr th {\n",
       "        vertical-align: top;\n",
       "    }\n",
       "\n",
       "    .dataframe thead th {\n",
       "        text-align: right;\n",
       "    }\n",
       "</style>\n",
       "<table border=\"1\" class=\"dataframe\">\n",
       "  <thead>\n",
       "    <tr style=\"text-align: right;\">\n",
       "      <th></th>\n",
       "      <th>disease</th>\n",
       "      <th>variable</th>\n",
       "    </tr>\n",
       "  </thead>\n",
       "  <tbody>\n",
       "    <tr>\n",
       "      <th>0</th>\n",
       "      <td>cchf</td>\n",
       "      <td>rainfall</td>\n",
       "    </tr>\n",
       "    <tr>\n",
       "      <th>1</th>\n",
       "      <td>ebola</td>\n",
       "      <td>rainfall</td>\n",
       "    </tr>\n",
       "    <tr>\n",
       "      <th>2</th>\n",
       "      <td>rvf</td>\n",
       "      <td>rainfall</td>\n",
       "    </tr>\n",
       "    <tr>\n",
       "      <th>3</th>\n",
       "      <td>lepto</td>\n",
       "      <td>rainfall</td>\n",
       "    </tr>\n",
       "  </tbody>\n",
       "</table>\n",
       "</div>"
      ],
      "text/plain": [
       "  disease  variable\n",
       "0    cchf  rainfall\n",
       "1   ebola  rainfall\n",
       "2     rvf  rainfall\n",
       "3   lepto  rainfall"
      ]
     },
     "execution_count": 5,
     "metadata": {},
     "output_type": "execute_result"
    }
   ],
   "source": [
    "# Unique combinations of disease and variable\n",
    "df_combs = df_sample[['disease','variable']].drop_duplicates().reset_index(drop=True)\n",
    "df_combs"
   ]
  },
  {
   "cell_type": "markdown",
   "id": "1b59fefa-3a39-43da-a8c2-3e7ad9859f2f",
   "metadata": {},
   "source": [
    "Subsetting the data for development vs full runs\n"
   ]
  },
  {
   "cell_type": "markdown",
   "id": "9e38b800-7f6f-408c-9017-d6cc910ab8d0",
   "metadata": {},
   "source": [
    "## Setup prompts"
   ]
  },
  {
   "cell_type": "code",
   "execution_count": 6,
   "id": "cd59d818-5b61-4f56-a231-9f39d1258912",
   "metadata": {},
   "outputs": [],
   "source": [
    "template_reference  = {\n",
    "    'cchf-rainfall': {\n",
    "        'topic': 'Impact of Climate Change on CCHF: A Focus on Rainfall',\n",
    "        'inclusion': \"Primary research or meta-analysis\\n Assesses the relationship between the rainfall and either:\\n Crimean-Congo haemorrhagic fever (CCHF) incidence or prevalence\\n Pathogen survival\\nTransmission\\nVirulence\\nDemonstrated vector or maintenance host survival, development or distribution\"\n",
    "    },\n",
    "    'ebola-rainfall': {\n",
    "        'topic': 'Impact of Climate Change on Ebola: A Focus on Rainfall',\n",
    "        'inclusion': \"Primary research or meta-analysis\\n Assesses the relationship between the rainfall and either:\\n Ebola or Marburg incidence or prevalence\\n Pathogen survival\\nTransmission\\nVirulence\\nDemonstrated vector or maintenance host survival, development or distribution\"\n",
    "    },\n",
    "    'lepto-rainfall': {\n",
    "        'topic': 'Impact of Climate Change on Leptospirosis: A Focus on Rainfall',\n",
    "        'inclusion': \"Primary research or meta-analysis\\n Assesses the relationship between the rainfall and either:\\n Leptospirosis incidence or prevalence\\n Pathogen survival\\nTransmission\\nVirulence\\nDemonstrated vector or maintenance host survival, development or distribution\"\n",
    "    },\n",
    "    'rvf-rainfall': {\n",
    "        'topic': 'Impact of Climate Change on Rift Valley Fever Virus: A Focus on Rainfall',\n",
    "        'inclusion': \"Primary research or meta-analysis\\n Assesses the relationship between the rainfall and either:\\n Rift Valley Fever (RVF) virus incidence or prevalence\\n Pathogen survival\\nTransmission\\nVirulence\\nDemonstrated vector or maintenance host survival, development or distribution\"\n",
    "    }   \n",
    "}"
   ]
  },
  {
   "cell_type": "markdown",
   "id": "423cf9b0-aad4-4a48-b738-ab3d079ec428",
   "metadata": {},
   "source": [
    "## Set up experiment directory and API calls"
   ]
  },
  {
   "cell_type": "code",
   "execution_count": 7,
   "id": "9ebd8772-0481-41f2-8ee9-bf8528498066",
   "metadata": {},
   "outputs": [],
   "source": [
    "exp_root_dir = \"../experiments/\"\n",
    "templates_dir = join(exp_root_dir, \"templates\")\n",
    "results_root_dir = join(exp_root_dir, \"results\")\n",
    "reports_root_dir = join(exp_root_dir, \"reports\")\n"
   ]
  },
  {
   "cell_type": "markdown",
   "id": "d8bd6fa1-324a-4530-bc16-61bce8a9eaa5",
   "metadata": {},
   "source": [
    "## Run the model"
   ]
  },
  {
   "cell_type": "code",
   "execution_count": 8,
   "id": "da37aaed-f87e-4b14-90b9-34a2e4099b98",
   "metadata": {},
   "outputs": [],
   "source": [
    "# Dictionary of model names and their Hugging Face model IDs\n",
    "MODEL_DICT = {\n",
    "    'SBERT': 'sentence-transformers/all-MiniLM-L6-v2'\n",
    "}"
   ]
  },
  {
   "cell_type": "code",
   "execution_count": 9,
   "id": "38a2ba57-4506-4c7b-992a-d7abf4c0a4e9",
   "metadata": {},
   "outputs": [],
   "source": [
    "def load_model(model_name):\n",
    "    model_id = MODEL_DICT[model_name]\n",
    "    tokenizer = AutoTokenizer.from_pretrained(model_id)\n",
    "    model = AutoModel.from_pretrained(model_id)\n",
    "    return tokenizer, model\n",
    "\n",
    "def get_embedding(text, tokenizer, model):\n",
    "    # Return a PyTorch tensor, truncate the input if necessary and add padding if shorter than max length\n",
    "    inputs = tokenizer(text, return_tensors=\"pt\", truncation=True, max_length=512, padding=True)\n",
    "    with torch.no_grad():\n",
    "        outputs = model(**inputs)\n",
    "    return outputs.last_hidden_state.mean(dim=1).squeeze().numpy()\n",
    "\n",
    "def min_max_normalize(scores):\n",
    "    min_score = min(scores)\n",
    "    max_score = max(scores)\n",
    "    if max_score == min_score: # to avoid division by zero\n",
    "        return [1.0]*len(scores) if max_score != 0 else [0.0]*len(scores)\n",
    "\n",
    "    return [(score - min_score) / (max_score - min_score) for score in scores]"
   ]
  },
  {
   "cell_type": "code",
   "execution_count": 11,
   "id": "b2c48905-e081-4b92-b969-33b1e1e881f8",
   "metadata": {},
   "outputs": [
    {
     "name": "stdout",
     "output_type": "stream",
     "text": [
      "  Calculating cosine similarity for query_embedding cchf - rainfall  -> data = (454, 384) query embedding = (384,)\n",
      "Processed cchf-rainfall: dims for sub = (454, 8) score = (454, 1)\n",
      "  Calculating cosine similarity for query_embedding ebola - rainfall  -> data = (915, 384) query embedding = (384,)\n",
      "Processed ebola-rainfall: dims for sub = (915, 8) score = (915, 1)\n",
      "  Calculating cosine similarity for query_embedding rvf - rainfall  -> data = (537, 384) query embedding = (384,)\n",
      "Processed rvf-rainfall: dims for sub = (537, 8) score = (537, 1)\n",
      "  Calculating cosine similarity for query_embedding lepto - rainfall  -> data = (999, 384) query embedding = (384,)\n",
      "Processed lepto-rainfall: dims for sub = (999, 8) score = (999, 1)\n",
      "All completed in 0:06:07.716805.\n",
      "Records count (2905, 10)\n"
     ]
    }
   ],
   "source": [
    "exp_start_time = time.time()\n",
    "tokenizer, model = load_model('SBERT')\n",
    "df_results = pd.DataFrame()\n",
    "for index, crow in df_combs.iterrows():\n",
    "        \n",
    "        disease = crow['disease']\n",
    "        variable = crow['variable']\n",
    "        keywords = f\"{disease}-{variable}\"\n",
    "        \n",
    "        #Grab just the rows for the given disease and variable\n",
    "        df_sub = df_sample.query(f\"disease == '{disease}' & variable == '{variable}'\")\n",
    "        data_embedding = get_embedding(df_sub['target'].tolist(), tokenizer, model)\n",
    "  \n",
    "        entries = template_reference[keywords]\n",
    "\n",
    "        query_text = f\"{entries['topic']} {entries['inclusion']}\"\n",
    "\n",
    "        query_embedding = get_embedding([query_text], tokenizer, model)\n",
    "    \n",
    "        #reshape to a (1, 384)\n",
    "        question_embedding = query_embedding.reshape(1, -1)\n",
    "            \n",
    "        print(f\"  Calculating cosine similarity for query_embedding {disease} - {variable}  -> data = {data_embedding.shape} query embedding = {query_embedding.shape}\")\n",
    "\n",
    "        cosine_similarities = cosine_similarity(data_embedding, question_embedding)\n",
    "\n",
    "        normalized_scores = min_max_normalize(cosine_similarities.flatten())    \n",
    "    \n",
    "        df_scores = pd.DataFrame({ 'score':  normalized_scores } )\n",
    "        print(f\"Processed {disease}-{variable}: dims for sub = {df_sub.shape} score = {df_scores.shape}\")\n",
    "\n",
    "        #df_sub = df_sub.reset_index().rename(columns={\"index\":\"id\"})\n",
    "        df_sub = df_sub.reset_index()\n",
    "        df_scores.reset_index(drop=True, inplace=True)\n",
    "        \n",
    "        df_sub = pd.concat([df_sub, df_scores], axis=1)\n",
    "    \n",
    "        df_results = pd.concat([df_results, df_sub], axis=0)\n",
    "    \n",
    "elapsed_time = time.time() - exp_start_time\n",
    "print(f\"All completed in {str(datetime.timedelta(seconds=elapsed_time))}.\")\n",
    "print(f\"Records count {df_results.shape}\")"
   ]
  },
  {
   "cell_type": "markdown",
   "id": "1561994e-efa7-4be9-a514-b1c46dde65eb",
   "metadata": {},
   "source": [
    "## Process results"
   ]
  },
  {
   "cell_type": "markdown",
   "id": "fef08495-0f0a-4a1e-9004-e50462aaebe7",
   "metadata": {},
   "source": [
    "### Read the results"
   ]
  },
  {
   "cell_type": "markdown",
   "id": "f4ac7769-a7c0-408f-adc3-c6ee2ba8000d",
   "metadata": {},
   "source": [
    "### Calculate Ranking"
   ]
  },
  {
   "cell_type": "code",
   "execution_count": 12,
   "id": "1fbaf18c-39cf-45c1-bafa-66f221367800",
   "metadata": {},
   "outputs": [
    {
     "data": {
      "text/html": [
       "<div>\n",
       "<style scoped>\n",
       "    .dataframe tbody tr th:only-of-type {\n",
       "        vertical-align: middle;\n",
       "    }\n",
       "\n",
       "    .dataframe tbody tr th {\n",
       "        vertical-align: top;\n",
       "    }\n",
       "\n",
       "    .dataframe thead th {\n",
       "        text-align: right;\n",
       "    }\n",
       "</style>\n",
       "<table border=\"1\" class=\"dataframe\">\n",
       "  <thead>\n",
       "    <tr style=\"text-align: right;\">\n",
       "      <th></th>\n",
       "      <th>index</th>\n",
       "      <th>tag</th>\n",
       "      <th>disease</th>\n",
       "      <th>variable</th>\n",
       "      <th>target_hash</th>\n",
       "      <th>target</th>\n",
       "      <th>review</th>\n",
       "      <th>reference</th>\n",
       "      <th>id</th>\n",
       "      <th>score</th>\n",
       "      <th>experiment</th>\n",
       "      <th>model</th>\n",
       "    </tr>\n",
       "  </thead>\n",
       "  <tbody>\n",
       "    <tr>\n",
       "      <th>0</th>\n",
       "      <td>0</td>\n",
       "      <td>0.0</td>\n",
       "      <td>cchf</td>\n",
       "      <td>rainfall</td>\n",
       "      <td>1266833a0c9bd183b54db85128f28024</td>\n",
       "      <td>Scientific Opinion on the Role of Tick Vectors...</td>\n",
       "      <td>1.0</td>\n",
       "      <td>Journal Article</td>\n",
       "      <td>0</td>\n",
       "      <td>0.708138</td>\n",
       "      <td>h-05-baseline-protocol</td>\n",
       "      <td>all-MiniLM-L6-v2</td>\n",
       "    </tr>\n",
       "    <tr>\n",
       "      <th>1</th>\n",
       "      <td>1</td>\n",
       "      <td>0.0</td>\n",
       "      <td>cchf</td>\n",
       "      <td>rainfall</td>\n",
       "      <td>c025b214c7370b24a3776e85f6cd285b</td>\n",
       "      <td>A survey of rift valley fever and associated r...</td>\n",
       "      <td>0.0</td>\n",
       "      <td>Journal Article</td>\n",
       "      <td>1</td>\n",
       "      <td>0.646057</td>\n",
       "      <td>h-05-baseline-protocol</td>\n",
       "      <td>all-MiniLM-L6-v2</td>\n",
       "    </tr>\n",
       "    <tr>\n",
       "      <th>2</th>\n",
       "      <td>2</td>\n",
       "      <td>0.0</td>\n",
       "      <td>cchf</td>\n",
       "      <td>rainfall</td>\n",
       "      <td>273c3107270be7343e0e43692cde82c3</td>\n",
       "      <td>Occurrence of Rickettsia spp. and Coxiella bur...</td>\n",
       "      <td>0.0</td>\n",
       "      <td>Journal Article</td>\n",
       "      <td>2</td>\n",
       "      <td>0.376826</td>\n",
       "      <td>h-05-baseline-protocol</td>\n",
       "      <td>all-MiniLM-L6-v2</td>\n",
       "    </tr>\n",
       "    <tr>\n",
       "      <th>3</th>\n",
       "      <td>3</td>\n",
       "      <td>0.0</td>\n",
       "      <td>cchf</td>\n",
       "      <td>rainfall</td>\n",
       "      <td>e0873fc8c6aaff839a4c90eeb31bbf6f</td>\n",
       "      <td>Multisectoral Perspectives on Global Warming a...</td>\n",
       "      <td>0.0</td>\n",
       "      <td>Journal Article</td>\n",
       "      <td>3</td>\n",
       "      <td>0.571226</td>\n",
       "      <td>h-05-baseline-protocol</td>\n",
       "      <td>all-MiniLM-L6-v2</td>\n",
       "    </tr>\n",
       "  </tbody>\n",
       "</table>\n",
       "</div>"
      ],
      "text/plain": [
       "   index  tag disease  variable                       target_hash  \\\n",
       "0      0  0.0    cchf  rainfall  1266833a0c9bd183b54db85128f28024   \n",
       "1      1  0.0    cchf  rainfall  c025b214c7370b24a3776e85f6cd285b   \n",
       "2      2  0.0    cchf  rainfall  273c3107270be7343e0e43692cde82c3   \n",
       "3      3  0.0    cchf  rainfall  e0873fc8c6aaff839a4c90eeb31bbf6f   \n",
       "\n",
       "                                              target  review        reference  \\\n",
       "0  Scientific Opinion on the Role of Tick Vectors...     1.0  Journal Article   \n",
       "1  A survey of rift valley fever and associated r...     0.0  Journal Article   \n",
       "2  Occurrence of Rickettsia spp. and Coxiella bur...     0.0  Journal Article   \n",
       "3  Multisectoral Perspectives on Global Warming a...     0.0  Journal Article   \n",
       "\n",
       "   id     score              experiment             model  \n",
       "0   0  0.708138  h-05-baseline-protocol  all-MiniLM-L6-v2  \n",
       "1   1  0.646057  h-05-baseline-protocol  all-MiniLM-L6-v2  \n",
       "2   2  0.376826  h-05-baseline-protocol  all-MiniLM-L6-v2  \n",
       "3   3  0.571226  h-05-baseline-protocol  all-MiniLM-L6-v2  "
      ]
     },
     "execution_count": 12,
     "metadata": {},
     "output_type": "execute_result"
    }
   ],
   "source": [
    "df_comb_results = df_results.copy()\n",
    "df_comb_results['experiment'] = 'h-05-baseline-protocol'\n",
    "df_comb_results['model'] = 'all-MiniLM-L6-v2'\n",
    "df_comb_results.head(4)"
   ]
  },
  {
   "cell_type": "code",
   "execution_count": 13,
   "id": "bbb8d4bc-1985-484c-bb31-8fdbabe99f63",
   "metadata": {},
   "outputs": [
    {
     "data": {
      "text/html": [
       "<div>\n",
       "<style scoped>\n",
       "    .dataframe tbody tr th:only-of-type {\n",
       "        vertical-align: middle;\n",
       "    }\n",
       "\n",
       "    .dataframe tbody tr th {\n",
       "        vertical-align: top;\n",
       "    }\n",
       "\n",
       "    .dataframe thead th {\n",
       "        text-align: right;\n",
       "    }\n",
       "</style>\n",
       "<table border=\"1\" class=\"dataframe\">\n",
       "  <thead>\n",
       "    <tr style=\"text-align: right;\">\n",
       "      <th></th>\n",
       "      <th>id</th>\n",
       "      <th>experiment</th>\n",
       "      <th>model</th>\n",
       "      <th>disease</th>\n",
       "      <th>variable</th>\n",
       "      <th>tag</th>\n",
       "      <th>score</th>\n",
       "    </tr>\n",
       "  </thead>\n",
       "  <tbody>\n",
       "    <tr>\n",
       "      <th>0</th>\n",
       "      <td>0</td>\n",
       "      <td>h-05-baseline-protocol</td>\n",
       "      <td>all-MiniLM-L6-v2</td>\n",
       "      <td>cchf</td>\n",
       "      <td>rainfall</td>\n",
       "      <td>0.0</td>\n",
       "      <td>0.708138</td>\n",
       "    </tr>\n",
       "    <tr>\n",
       "      <th>1</th>\n",
       "      <td>1</td>\n",
       "      <td>h-05-baseline-protocol</td>\n",
       "      <td>all-MiniLM-L6-v2</td>\n",
       "      <td>cchf</td>\n",
       "      <td>rainfall</td>\n",
       "      <td>0.0</td>\n",
       "      <td>0.646057</td>\n",
       "    </tr>\n",
       "    <tr>\n",
       "      <th>2</th>\n",
       "      <td>2</td>\n",
       "      <td>h-05-baseline-protocol</td>\n",
       "      <td>all-MiniLM-L6-v2</td>\n",
       "      <td>cchf</td>\n",
       "      <td>rainfall</td>\n",
       "      <td>0.0</td>\n",
       "      <td>0.376826</td>\n",
       "    </tr>\n",
       "    <tr>\n",
       "      <th>3</th>\n",
       "      <td>3</td>\n",
       "      <td>h-05-baseline-protocol</td>\n",
       "      <td>all-MiniLM-L6-v2</td>\n",
       "      <td>cchf</td>\n",
       "      <td>rainfall</td>\n",
       "      <td>0.0</td>\n",
       "      <td>0.571226</td>\n",
       "    </tr>\n",
       "    <tr>\n",
       "      <th>4</th>\n",
       "      <td>4</td>\n",
       "      <td>h-05-baseline-protocol</td>\n",
       "      <td>all-MiniLM-L6-v2</td>\n",
       "      <td>cchf</td>\n",
       "      <td>rainfall</td>\n",
       "      <td>0.0</td>\n",
       "      <td>0.492243</td>\n",
       "    </tr>\n",
       "  </tbody>\n",
       "</table>\n",
       "</div>"
      ],
      "text/plain": [
       "   id              experiment             model disease  variable  tag  \\\n",
       "0   0  h-05-baseline-protocol  all-MiniLM-L6-v2    cchf  rainfall  0.0   \n",
       "1   1  h-05-baseline-protocol  all-MiniLM-L6-v2    cchf  rainfall  0.0   \n",
       "2   2  h-05-baseline-protocol  all-MiniLM-L6-v2    cchf  rainfall  0.0   \n",
       "3   3  h-05-baseline-protocol  all-MiniLM-L6-v2    cchf  rainfall  0.0   \n",
       "4   4  h-05-baseline-protocol  all-MiniLM-L6-v2    cchf  rainfall  0.0   \n",
       "\n",
       "      score  \n",
       "0  0.708138  \n",
       "1  0.646057  \n",
       "2  0.376826  \n",
       "3  0.571226  \n",
       "4  0.492243  "
      ]
     },
     "execution_count": 13,
     "metadata": {},
     "output_type": "execute_result"
    }
   ],
   "source": [
    "selected_columns = ['id', 'experiment', 'model', 'disease', 'variable', 'tag', 'score']\n",
    "df_rerank = df_comb_results.loc[:,selected_columns]\n",
    "df_rerank.head(5)"
   ]
  },
  {
   "cell_type": "code",
   "execution_count": 14,
   "id": "6dccc8eb-390e-4427-a469-afcc4c1a5a61",
   "metadata": {},
   "outputs": [
    {
     "data": {
      "text/html": [
       "<div>\n",
       "<style scoped>\n",
       "    .dataframe tbody tr th:only-of-type {\n",
       "        vertical-align: middle;\n",
       "    }\n",
       "\n",
       "    .dataframe tbody tr th {\n",
       "        vertical-align: top;\n",
       "    }\n",
       "\n",
       "    .dataframe thead th {\n",
       "        text-align: right;\n",
       "    }\n",
       "</style>\n",
       "<table border=\"1\" class=\"dataframe\">\n",
       "  <thead>\n",
       "    <tr style=\"text-align: right;\">\n",
       "      <th></th>\n",
       "      <th>id</th>\n",
       "      <th>experiment</th>\n",
       "      <th>model</th>\n",
       "      <th>disease</th>\n",
       "      <th>variable</th>\n",
       "      <th>tag</th>\n",
       "      <th>score</th>\n",
       "      <th>target</th>\n",
       "      <th>target_len</th>\n",
       "      <th>ranking</th>\n",
       "    </tr>\n",
       "  </thead>\n",
       "  <tbody>\n",
       "    <tr>\n",
       "      <th>0</th>\n",
       "      <td>20</td>\n",
       "      <td>h-05-baseline-protocol</td>\n",
       "      <td>all-MiniLM-L6-v2</td>\n",
       "      <td>cchf</td>\n",
       "      <td>rainfall</td>\n",
       "      <td>1.0</td>\n",
       "      <td>1.000000</td>\n",
       "      <td>Crimean-Congo hemorrhagic fever and its relati...</td>\n",
       "      <td>1657</td>\n",
       "      <td>1</td>\n",
       "    </tr>\n",
       "    <tr>\n",
       "      <th>1</th>\n",
       "      <td>19</td>\n",
       "      <td>h-05-baseline-protocol</td>\n",
       "      <td>all-MiniLM-L6-v2</td>\n",
       "      <td>cchf</td>\n",
       "      <td>rainfall</td>\n",
       "      <td>1.0</td>\n",
       "      <td>0.911071</td>\n",
       "      <td>Predicting CCHF incidence and its related fact...</td>\n",
       "      <td>1691</td>\n",
       "      <td>2</td>\n",
       "    </tr>\n",
       "    <tr>\n",
       "      <th>2</th>\n",
       "      <td>441</td>\n",
       "      <td>h-05-baseline-protocol</td>\n",
       "      <td>all-MiniLM-L6-v2</td>\n",
       "      <td>cchf</td>\n",
       "      <td>rainfall</td>\n",
       "      <td>1.0</td>\n",
       "      <td>0.906651</td>\n",
       "      <td>Temporal tendency, seasonality and relationshi...</td>\n",
       "      <td>2385</td>\n",
       "      <td>3</td>\n",
       "    </tr>\n",
       "    <tr>\n",
       "      <th>3</th>\n",
       "      <td>221</td>\n",
       "      <td>h-05-baseline-protocol</td>\n",
       "      <td>all-MiniLM-L6-v2</td>\n",
       "      <td>cchf</td>\n",
       "      <td>rainfall</td>\n",
       "      <td>1.0</td>\n",
       "      <td>0.905035</td>\n",
       "      <td>Climatic prerequisites for changing activity i...</td>\n",
       "      <td>2414</td>\n",
       "      <td>4</td>\n",
       "    </tr>\n",
       "    <tr>\n",
       "      <th>4</th>\n",
       "      <td>125</td>\n",
       "      <td>h-05-baseline-protocol</td>\n",
       "      <td>all-MiniLM-L6-v2</td>\n",
       "      <td>cchf</td>\n",
       "      <td>rainfall</td>\n",
       "      <td>0.0</td>\n",
       "      <td>0.892276</td>\n",
       "      <td>Crimean–Congo Haemorrhagic Fever (CCHF) in ani...</td>\n",
       "      <td>2232</td>\n",
       "      <td>5</td>\n",
       "    </tr>\n",
       "  </tbody>\n",
       "</table>\n",
       "</div>"
      ],
      "text/plain": [
       "    id              experiment             model disease  variable  tag  \\\n",
       "0   20  h-05-baseline-protocol  all-MiniLM-L6-v2    cchf  rainfall  1.0   \n",
       "1   19  h-05-baseline-protocol  all-MiniLM-L6-v2    cchf  rainfall  1.0   \n",
       "2  441  h-05-baseline-protocol  all-MiniLM-L6-v2    cchf  rainfall  1.0   \n",
       "3  221  h-05-baseline-protocol  all-MiniLM-L6-v2    cchf  rainfall  1.0   \n",
       "4  125  h-05-baseline-protocol  all-MiniLM-L6-v2    cchf  rainfall  0.0   \n",
       "\n",
       "      score                                             target  target_len  \\\n",
       "0  1.000000  Crimean-Congo hemorrhagic fever and its relati...        1657   \n",
       "1  0.911071  Predicting CCHF incidence and its related fact...        1691   \n",
       "2  0.906651  Temporal tendency, seasonality and relationshi...        2385   \n",
       "3  0.905035  Climatic prerequisites for changing activity i...        2414   \n",
       "4  0.892276  Crimean–Congo Haemorrhagic Fever (CCHF) in ani...        2232   \n",
       "\n",
       "   ranking  \n",
       "0        1  \n",
       "1        2  \n",
       "2        3  \n",
       "3        4  \n",
       "4        5  "
      ]
     },
     "execution_count": 14,
     "metadata": {},
     "output_type": "execute_result"
    }
   ],
   "source": [
    "df_rerank = cr.apply_len_tie_breaker(df_sample, df_rerank, 'score')\n",
    "df_rerank.head(5)"
   ]
  },
  {
   "cell_type": "markdown",
   "id": "3ad41c7e-11fb-41c9-b25e-579d41108b5b",
   "metadata": {},
   "source": [
    "## Review Document"
   ]
  },
  {
   "cell_type": "markdown",
   "id": "d193cd6b-f042-4836-8bec-d3483291482f",
   "metadata": {},
   "source": [
    "Creating separate files for each experiment"
   ]
  },
  {
   "cell_type": "code",
   "execution_count": 15,
   "id": "44e9183d-90f8-4d6f-84f6-ea181b2c073f",
   "metadata": {},
   "outputs": [
    {
     "name": "stdout",
     "output_type": "stream",
     "text": [
      "(2905, 10)\n",
      "all-MiniLM-L6-v2 - h-05-baseline-protocol\n"
     ]
    }
   ],
   "source": [
    "df_review = df_rerank.copy()\n",
    "print(df_review.shape)\n",
    "groups = df_review.groupby([\"model\", \"experiment\"])\n",
    "for key, data in groups:\n",
    "    print(f\"{key[0]} - {key[1]}\")\n",
    "\n",
    "    #reporting\n",
    "    df_reporting = df_review[['id', 'experiment', 'model', 'disease', 'variable', 'tag', 'score', 'ranking']].copy()\n",
    "    df_reporting.to_csv(reports_root_dir + f'/report_{key[0]}_{key[1]}.csv', header=True, index=False, encoding='utf-8')"
   ]
  },
  {
   "cell_type": "code",
   "execution_count": null,
   "id": "afdcb187-7cbb-454c-896a-2b9a67430742",
   "metadata": {},
   "outputs": [],
   "source": []
  }
 ],
 "metadata": {
  "kernelspec": {
   "display_name": "Python 3 (ipykernel)",
   "language": "python",
   "name": "python3"
  },
  "language_info": {
   "codemirror_mode": {
    "name": "ipython",
    "version": 3
   },
   "file_extension": ".py",
   "mimetype": "text/x-python",
   "name": "python",
   "nbconvert_exporter": "python",
   "pygments_lexer": "ipython3",
   "version": "3.9.21"
  }
 },
 "nbformat": 4,
 "nbformat_minor": 5
}
